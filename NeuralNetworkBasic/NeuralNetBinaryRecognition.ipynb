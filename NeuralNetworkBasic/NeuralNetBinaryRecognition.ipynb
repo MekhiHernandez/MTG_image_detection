{
 "cells": [
  {
   "cell_type": "markdown",
   "metadata": {},
   "source": []
  },
  {
   "cell_type": "code",
   "execution_count": 8,
   "metadata": {},
   "outputs": [
    {
     "name": "stdout",
     "output_type": "stream",
     "text": [
      "[[5]\n",
      " [0]\n",
      " [4]\n",
      " ...\n",
      " [5]\n",
      " [6]\n",
      " [8]]\n"
     ]
    }
   ],
   "source": [
    "import numpy as np\n",
    "from mlxtend.data import loadlocal_mnist\n",
    "import platform\n",
    "import random\n",
    "X, Y = loadlocal_mnist(\n",
    "            images_path='TestImageFiles/train-images-idx3-ubyte', \n",
    "            labels_path='TestImageFiles/train-labels-idx1-ubyte')\n",
    "Y = Y.reshape(60000,1)\n",
    "random.seed(0)\n",
    "chosen = random.sample(range(60000), 2000)\n",
    "trainX = X[chosen]\n",
    "trainY = Y[chosen]\n",
    "onehotY = np.zeros((2000, 10))\n",
    "for l in range(len(trainY)):\n",
    "    onehotY[l, trainY[l]] = 1\n",
    "print(Y)"
   ]
  },
  {
   "cell_type": "code",
   "execution_count": 9,
   "metadata": {},
   "outputs": [
    {
     "name": "stdout",
     "output_type": "stream",
     "text": [
      "(60000, 784)\n",
      "(60000, 1)\n",
      "(60000, 1)\n",
      "test(784, 600)\n",
      "0.00.0\n"
     ]
    }
   ],
   "source": [
    "\n",
    "print(X.shape)\n",
    "print(Y.shape)\n",
    "Yind = np.array(range(0,60000,1)).reshape(60000, 1)\n",
    "\n",
    "print(Yind.shape)\n",
    "Yindnew = Yind[(Y == 0) | (Y == 1)].reshape(12665,1)\n",
    "Xbinarytest = X[Yindnew].reshape(12665,784)\n",
    "Ybinarytest = Y[Yindnew].reshape(12665,1)\n",
    "chosen = np.array(random.sample(range(12655), 600)).reshape(600,1)\n",
    "Xbinarytrain = Xbinarytest[chosen].reshape(600,784)/255\n",
    "Xbinarytrain = np.transpose(Xbinarytrain)\n",
    "print('test' + str(Xbinarytrain.shape))\n",
    "Ybinarytrain = Ybinarytest[chosen].reshape(600,1)\n",
    "print(str(max(Xbinarytrain[1])) + str(min(Xbinarytrain[1])))\n",
    "\n"
   ]
  },
  {
   "cell_type": "code",
   "execution_count": 3,
   "metadata": {},
   "outputs": [
    {
     "name": "stdout",
     "output_type": "stream",
     "text": [
      "(2000, 784)\n"
     ]
    },
    {
     "data": {
      "text/plain": [
       "<matplotlib.image.AxesImage at 0x11e8da7c0>"
      ]
     },
     "execution_count": 3,
     "metadata": {},
     "output_type": "execute_result"
    },
    {
     "data": {
      "image/png": "[encoded data removed]",
      "text/plain": [
       "<Figure size 432x288 with 1 Axes>"
      ]
     },
     "metadata": {
      "needs_background": "light"
     },
     "output_type": "display_data"
    }
   ],
   "source": [
    "from matplotlib import image\n",
    "from matplotlib import pyplot\n",
    "print(trainX.shape)\n",
    "finalshowimg = Xbinarytrain[:,1].reshape(28,28)\n",
    "pyplot.imshow(finalshowimg)\n",
    "# very important to test to make sure that the data is in the shape that we want. The reason that it wasn't training well was because it wasn't training on actual images"
   ]
  },
  {
   "cell_type": "markdown",
   "metadata": {},
   "source": []
  },
  {
   "cell_type": "code",
   "execution_count": 4,
   "metadata": {},
   "outputs": [],
   "source": [
    "from FromScratch import *\n",
    "\n",
    "def neuralnetwork(X, Y, dimensions, iterations = 3000, learning_rate = 0.05):\n",
    "    X = np.squeeze(X)\n",
    "    Y = np.squeeze(Y).reshape(600,1)\n",
    "    print(Y.shape)\n",
    "    params = initialize_params(dimensions)\n",
    "    for i in range(iterations):\n",
    "        AL, caches = model_forward(X, params)\n",
    "        grads = model_backward(AL, Y, caches)\n",
    "        params = update_parameters(params, grads, learning_rate)\n",
    "        cost = compute_cost(AL,Y.T)\n",
    "        if i % 100 == 0:\n",
    "            print(f'Cost in epoch:{i} is {cost}')\n",
    "    return params\n"
   ]
  },
  {
   "cell_type": "code",
   "execution_count": 82,
   "metadata": {},
   "outputs": [
    {
     "name": "stdout",
     "output_type": "stream",
     "text": [
      "(600, 1)\n",
      "Cost in epoch:0 is 0.695553572478537\n",
      "Cost in epoch:100 is 0.6504922754173982\n",
      "Cost in epoch:200 is 0.6064370478872442\n",
      "Cost in epoch:300 is 0.5584818277395761\n",
      "Cost in epoch:400 is 0.5071969375149832\n",
      "Cost in epoch:500 is 0.4552831844410863\n",
      "Cost in epoch:600 is 0.4057390182951107\n",
      "Cost in epoch:700 is 0.3605172568014701\n",
      "Cost in epoch:800 is 0.3204396536701438\n",
      "Cost in epoch:900 is 0.28571697428797027\n",
      "Cost in epoch:1000 is 0.2559849991107949\n",
      "Cost in epoch:1100 is 0.23065194089799756\n",
      "Cost in epoch:1200 is 0.20906804689790648\n",
      "Cost in epoch:1300 is 0.1906246691453437\n",
      "Cost in epoch:1400 is 0.17479175157127672\n",
      "Cost in epoch:1500 is 0.16110788729607634\n",
      "Cost in epoch:1600 is 0.1492217735007309\n",
      "Cost in epoch:1700 is 0.13882040246263283\n",
      "Cost in epoch:1800 is 0.12966684974517909\n",
      "Cost in epoch:1900 is 0.12157743762006043\n",
      "Cost in epoch:2000 is 0.11438861630824645\n",
      "Cost in epoch:2100 is 0.10796078448036232\n",
      "Cost in epoch:2200 is 0.10219641669998526\n",
      "Cost in epoch:2300 is 0.09700063257131818\n",
      "Cost in epoch:2400 is 0.09229688850994673\n",
      "Cost in epoch:2500 is 0.08802558315179349\n",
      "Cost in epoch:2600 is 0.08412953269021382\n",
      "Cost in epoch:2700 is 0.08056279811993756\n",
      "Cost in epoch:2800 is 0.07728796929300695\n",
      "Cost in epoch:2900 is 0.07427121036374265\n"
     ]
    }
   ],
   "source": [
    "dimensions = [784, 50, 50, 1]\n",
    "parameters = neuralnetwork(Xbinarytrain, Ybinarytrain, dimensions = dimensions, iterations = 3000, learning_rate = 0.2)\n"
   ]
  },
  {
   "cell_type": "code",
   "execution_count": 83,
   "metadata": {},
   "outputs": [],
   "source": [
    "def predict_single(parameters, examplenum):\n",
    "    example = Xbinarytrain[:, examplenum].reshape(784,1)\n",
    "    AL, caches = model_forward(example, parameters)\n",
    "    pyplot.imshow(example.reshape(28,28))\n",
    "    prediction = \"Image is predicted {0}, predicted exact as{1}\"\n",
    "    if AL < 0.5:\n",
    "        return prediction.format(\"0\", AL)\n",
    "    elif AL >= 0.5:\n",
    "        return prediction.format(\"1\", AL)\n",
    "    \n",
    "def predict_multiple(parameters, test_setX, test_setY, return_false_indexes = False):\n",
    "    testlst = []\n",
    "    wrongindlist = []\n",
    "    test_imgs = test_setX\n",
    "    AL, caches = model_forward(test_imgs, parameters)\n",
    "    testresults = test_setY.reshape(AL.shape)\n",
    "    AL[AL>=0.5] = 1\n",
    "    AL[AL<0.5] = 0\n",
    "    for i in range(AL.shape[1]):\n",
    "        if AL[:,i] == testresults[:,i]:\n",
    "            testlst.append(1)\n",
    "        else:\n",
    "            testlst.append(0)\n",
    "            wrongindlist.append(i)\n",
    "    testarray = np.array(testlst)\n",
    "    accsum = np.sum(testarray)\n",
    "    acc = accsum/(len(testarray))\n",
    "    accstring = 'Accuracy of model is {0}'\n",
    "    if return_false_indexes:\n",
    "        return accstring.format(acc), wrongindlist\n",
    "    else:\n",
    "        return accstring.format(acc)\n"
   ]
  },
  {
   "cell_type": "code",
   "execution_count": 84,
   "metadata": {},
   "outputs": [
    {
     "name": "stdout",
     "output_type": "stream",
     "text": [
      "Accuracy of model is 0.9866666666666667[61, 248, 300, 328, 404, 425, 472, 482, 569, 587, 722, 758, 855, 879, 935, 1019, 1078, 1093, 1110, 1180, 1187, 1252, 1262, 1384, 1591, 1632, 1697, 1719, 1832, 2252, 2288, 2680, 2688, 2708, 2745, 2775, 2817, 2823, 2837, 2856]\n"
     ]
    },
    {
     "data": {
      "text/plain": [
       "<matplotlib.image.AxesImage at 0x11f64db50>"
      ]
     },
     "execution_count": 84,
     "metadata": {},
     "output_type": "execute_result"
    },
    {
     "data": {
      "image/png": "[encoded data removed]",
      "text/plain": [
       "<Figure size 432x288 with 1 Axes>"
      ]
     },
     "metadata": {
      "needs_background": "light"
     },
     "output_type": "display_data"
    }
   ],
   "source": [
    "predict_single(parameters, 3)\n",
    "chosen = np.array(random.sample(range(12655), 3000)).reshape(3000,1)\n",
    "Xbinarytestnew = Xbinarytest[chosen].reshape(3000,784)/255\n",
    "Xbinarytestnew = np.transpose(Xbinarytestnew)\n",
    "Ybinarytestnew = Ybinarytest[chosen].reshape(3000,1)\n",
    "finalshowimgnew = Xbinarytestnew[:,1].reshape(28,28)\n",
    "\n",
    "accuracy, incorrect_guess_list = predict_multiple(parameters, Xbinarytestnew, Ybinarytestnew, return_false_indexes = True)\n",
    "print(accuracy + str(incorrect_guess_list))\n",
    "finalshowimgnew = Xbinarytestnew[:,45].reshape(28,28)\n",
    "pyplot.imshow(finalshowimgnew)\n"
   ]
  }
 ],
 "metadata": {
  "interpreter": {
   "hash": "80eb601d08a5722d65e34e5e2c95f8e441addfdcbaef863e07802d2146dd1c5f"
  },
  "kernelspec": {
   "display_name": "Python 3.8.9 64-bit ('MTGNetwork-mCGsv-ZK': pipenv)",
   "language": "python",
   "name": "python3"
  },
  "language_info": {
   "codemirror_mode": {
    "name": "ipython",
    "version": 3
   },
   "file_extension": ".py",
   "mimetype": "text/x-python",
   "name": "python",
   "nbconvert_exporter": "python",
   "pygments_lexer": "ipython3",
   "version": "3.8.9"
  },
  "orig_nbformat": 4
 },
 "nbformat": 4,
 "nbformat_minor": 2
}
