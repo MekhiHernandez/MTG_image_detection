{
 "cells": [
  {
   "cell_type": "markdown",
   "metadata": {},
   "source": []
  },
  {
   "cell_type": "code",
   "execution_count": 1,
   "metadata": {},
   "outputs": [
    {
     "name": "stdout",
     "output_type": "stream",
     "text": [
      "[[5]\n",
      " [0]\n",
      " [4]\n",
      " ...\n",
      " [5]\n",
      " [6]\n",
      " [8]]\n"
     ]
    }
   ],
   "source": [
    "import numpy as np\n",
    "from mlxtend.data import loadlocal_mnist\n",
    "import platform\n",
    "import random\n",
    "X, Y = loadlocal_mnist(\n",
    "            images_path='TestImageFiles/train-images-idx3-ubyte', \n",
    "            labels_path='TestImageFiles/train-labels-idx1-ubyte')\n",
    "Y = Y.reshape(60000,1)\n",
    "random.seed(0)\n",
    "chosen = random.sample(range(60000), 2000)\n",
    "trainX = X[chosen]\n",
    "trainY = Y[chosen]\n",
    "onehotY = np.zeros((2000, 10))\n",
    "for l in range(len(trainY)):\n",
    "    onehotY[l, trainY[l]] = 1\n",
    "print(Y)"
   ]
  },
  {
   "cell_type": "code",
   "execution_count": 2,
   "metadata": {},
   "outputs": [
    {
     "name": "stdout",
     "output_type": "stream",
     "text": [
      "(60000, 784)\n",
      "(60000, 1)\n",
      "(60000, 1)\n",
      "test(784, 600)\n",
      "0.00.0\n"
     ]
    }
   ],
   "source": [
    "\n",
    "print(X.shape)\n",
    "print(Y.shape)\n",
    "Yind = np.array(range(0,60000,1)).reshape(60000, 1)\n",
    "\n",
    "print(Yind.shape)\n",
    "Yindnew = Yind[(Y == 0) | (Y == 1)].reshape(12665,1)\n",
    "Xbinarytest = X[Yindnew].reshape(12665,784)\n",
    "Ybinarytest = Y[Yindnew].reshape(12665,1)\n",
    "chosen = np.array(random.sample(range(12655), 600)).reshape(600,1)\n",
    "Xbinarytrain = Xbinarytest[chosen].reshape(600,784)/255\n",
    "Xbinarytrain = np.transpose(Xbinarytrain)\n",
    "print('test' + str(Xbinarytrain.shape))\n",
    "Ybinarytrain = Ybinarytest[chosen].reshape(600,1)\n",
    "print(str(max(Xbinarytrain[1])) + str(min(Xbinarytrain[1])))\n",
    "\n"
   ]
  },
  {
   "cell_type": "code",
   "execution_count": 3,
   "metadata": {},
   "outputs": [
    {
     "name": "stdout",
     "output_type": "stream",
     "text": [
      "(2000, 784)\n"
     ]
    },
    {
     "data": {
      "text/plain": [
       "<matplotlib.image.AxesImage at 0x11c73a7c0>"
      ]
     },
     "execution_count": 3,
     "metadata": {},
     "output_type": "execute_result"
    },
    {
     "data": {
      "image/png": "[encoded data removed]",
      "text/plain": [
       "<Figure size 432x288 with 1 Axes>"
      ]
     },
     "metadata": {
      "needs_background": "light"
     },
     "output_type": "display_data"
    }
   ],
   "source": [
    "from matplotlib import image\n",
    "from matplotlib import pyplot\n",
    "print(trainX.shape)\n",
    "finalshowimg = Xbinarytrain[:,1].reshape(28,28)\n",
    "pyplot.imshow(finalshowimg)\n",
    "# very important to test to make sure that the data is in the shape that we want. The reason that it wasn't training well was because it wasn't training on actual images"
   ]
  },
  {
   "cell_type": "markdown",
   "metadata": {},
   "source": []
  },
  {
   "cell_type": "code",
   "execution_count": 4,
   "metadata": {},
   "outputs": [],
   "source": [
    "from FromScratch import *\n",
    "\n",
    "def neuralnetwork(X, Y, dimensions, iterations = 3000, learning_rate = 0.05):\n",
    "    X = np.squeeze(X)\n",
    "    Y = np.squeeze(Y).reshape(600,1)\n",
    "    print(Y.shape)\n",
    "    params = initialize_params(dimensions)\n",
    "    for i in range(iterations):\n",
    "        AL, caches = model_forward(X, params)\n",
    "        grads = model_backward(AL, Y, caches)\n",
    "        params = update_parameters(params, grads, learning_rate)\n",
    "        cost = compute_cost(AL,Y.T)\n",
    "        if i % 100 == 0:\n",
    "            print(f'Cost in epoch:{i} is {cost}')\n",
    "    return params\n"
   ]
  },
  {
   "cell_type": "code",
   "execution_count": 14,
   "metadata": {},
   "outputs": [
    {
     "name": "stdout",
     "output_type": "stream",
     "text": [
      "(600, 1)\n",
      "Cost in epoch:0 is 0.6930155549021362\n",
      "Cost in epoch:100 is 0.6675880823475284\n",
      "Cost in epoch:200 is 0.6441580543233827\n",
      "Cost in epoch:300 is 0.6174312107484932\n",
      "Cost in epoch:400 is 0.5860840749356345\n",
      "Cost in epoch:500 is 0.5496071359093805\n",
      "Cost in epoch:600 is 0.508571915624142\n",
      "Cost in epoch:700 is 0.4646260701614577\n",
      "Cost in epoch:800 is 0.4201695936992413\n",
      "Cost in epoch:900 is 0.3774910563406377\n",
      "Cost in epoch:1000 is 0.3382321468948659\n",
      "Cost in epoch:1100 is 0.3033047658747021\n",
      "Cost in epoch:1200 is 0.2728970468102959\n",
      "Cost in epoch:1300 is 0.24676355742298636\n",
      "Cost in epoch:1400 is 0.22443268068673933\n",
      "Cost in epoch:1500 is 0.2053941387865939\n",
      "Cost in epoch:1600 is 0.1891009300651712\n",
      "Cost in epoch:1700 is 0.1750955543422732\n",
      "Cost in epoch:1800 is 0.162994437136865\n",
      "Cost in epoch:1900 is 0.15242692673796962\n",
      "Cost in epoch:2000 is 0.14315571108241407\n",
      "Cost in epoch:2100 is 0.1349933947616387\n",
      "Cost in epoch:2200 is 0.12776673665184932\n",
      "Cost in epoch:2300 is 0.12134270479598651\n",
      "Cost in epoch:2400 is 0.11559710125947234\n",
      "Cost in epoch:2500 is 0.1104337344386921\n",
      "Cost in epoch:2600 is 0.10577199461361489\n",
      "Cost in epoch:2700 is 0.10154645082214056\n",
      "Cost in epoch:2800 is 0.09770009226616365\n",
      "Cost in epoch:2900 is 0.0941855915535062\n"
     ]
    }
   ],
   "source": [
    "dimensions = [784, 30, 30, 1]\n",
    "parameters = neuralnetwork(Xbinarytrain, Ybinarytrain, dimensions = dimensions, iterations = 3000, learning_rate = 0.2)\n"
   ]
  },
  {
   "cell_type": "code",
   "execution_count": 15,
   "metadata": {},
   "outputs": [],
   "source": [
    "def predict_single(parameters, examplenum):\n",
    "    example = Xbinarytrain[:, examplenum].reshape(784,1)\n",
    "    AL, caches = model_forward(example, parameters)\n",
    "    pyplot.imshow(example.reshape(28,28))\n",
    "    prediction = \"Image is predicted {0}, predicted exact as{1}\"\n",
    "    if AL < 0.5:\n",
    "        return prediction.format(\"0\", AL)\n",
    "    elif AL >= 0.5:\n",
    "        return prediction.format(\"1\", AL)\n",
    "    \n",
    "def predict_multiple(parameters, test_set):\n",
    "    test_set = \n"
   ]
  },
  {
   "cell_type": "code",
   "execution_count": 16,
   "metadata": {},
   "outputs": [
    {
     "data": {
      "text/plain": [
       "'Image is predicted 1, predicted exact as[[0.94428738]]'"
      ]
     },
     "execution_count": 16,
     "metadata": {},
     "output_type": "execute_result"
    },
    {
     "data": {
      "image/png": "[encoded data removed]",
      "text/plain": [
       "<Figure size 432x288 with 1 Axes>"
      ]
     },
     "metadata": {
      "needs_background": "light"
     },
     "output_type": "display_data"
    }
   ],
   "source": [
    "predict_single(parameters, 3)\n",
    "chosen = np.array(random.sample(range(12655), 600)).reshape(600,1)\n",
    "Xbinarytestnew = Xbinarytest[chosen].reshape(600,784)/255\n",
    "Xbinarytestnew = np.transpose(Xbinarytrain)\n",
    "Ybinarytestnew = Ybinarytest[chosen].reshape(600,1)"
   ]
  }
 ],
 "metadata": {
  "interpreter": {
   "hash": "80eb601d08a5722d65e34e5e2c95f8e441addfdcbaef863e07802d2146dd1c5f"
  },
  "kernelspec": {
   "display_name": "Python 3.8.9 64-bit ('MTGNetwork-mCGsv-ZK': pipenv)",
   "language": "python",
   "name": "python3"
  },
  "language_info": {
   "codemirror_mode": {
    "name": "ipython",
    "version": 3
   },
   "file_extension": ".py",
   "mimetype": "text/x-python",
   "name": "python",
   "nbconvert_exporter": "python",
   "pygments_lexer": "ipython3",
   "version": "3.8.9"
  },
  "orig_nbformat": 4
 },
 "nbformat": 4,
 "nbformat_minor": 2
}
