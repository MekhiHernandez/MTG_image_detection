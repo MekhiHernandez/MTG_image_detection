{
 "cells": [
  {
   "cell_type": "markdown",
   "metadata": {},
   "source": []
  },
  {
   "cell_type": "code",
   "execution_count": 39,
   "metadata": {},
   "outputs": [],
   "source": [
    "import numpy as np\n",
    "from mlxtend.data import loadlocal_mnist\n",
    "import platform\n",
    "import random\n",
    "X, Y = loadlocal_mnist(\n",
    "            images_path='TestImageFiles/train-images-idx3-ubyte', \n",
    "            labels_path='TestImageFiles/train-labels-idx1-ubyte')\n",
    "Y = Y.reshape(60000,1)\n",
    "random.seed(0)\n",
    "chosen = random.sample(range(60000), 2000)\n",
    "trainX = X[chosen]\n",
    "trainY = Y[chosen]\n",
    "onehotY = np.zeros((2000, 10))\n",
    "for l in range(len(trainY)):\n",
    "    onehotY[l, trainY[l]] = 1"
   ]
  },
  {
   "cell_type": "code",
   "execution_count": 44,
   "metadata": {},
   "outputs": [
    {
     "name": "stdout",
     "output_type": "stream",
     "text": [
      "[[0. 0. 0. ... 0. 0. 0.]\n",
      " [0. 0. 0. ... 0. 0. 1.]\n",
      " [0. 0. 0. ... 0. 0. 0.]\n",
      " ...\n",
      " [0. 0. 0. ... 1. 0. 0.]\n",
      " [0. 0. 0. ... 0. 0. 0.]\n",
      " [0. 0. 0. ... 0. 0. 0.]]\n",
      "[7]\n"
     ]
    }
   ],
   "source": []
  },
  {
   "cell_type": "code",
   "execution_count": null,
   "metadata": {},
   "outputs": [],
   "source": []
  },
  {
   "cell_type": "markdown",
   "metadata": {},
   "source": []
  },
  {
   "cell_type": "code",
   "execution_count": null,
   "metadata": {},
   "outputs": [],
   "source": [
    "from FromScratch import *\n",
    "\n",
    "def neuralnetwork(X, Y, dimensions, iterations = 3000, learning_rate = 0.05):\n",
    "    params = initialize_params(dimensions)\n",
    "    for i in range(iterations):\n",
    "        AL, caches = model_forward(X, params)\n",
    "        grads = model_backward(AL, Y, caches)\n",
    "        params = update_parameters(params, grads, learning_rate)\n",
    "    return params\n"
   ]
  },
  {
   "cell_type": "code",
   "execution_count": null,
   "metadata": {},
   "outputs": [],
   "source": [
    "dimensions= [2000, 30,10,10]\n",
    "neuralnetwork(trainX, onehotY, dimensions = dimensions, iterations = 3000, learning_rate = 0.05)"
   ]
  },
  {
   "cell_type": "code",
   "execution_count": null,
   "metadata": {},
   "outputs": [],
   "source": []
  }
 ],
 "metadata": {
  "interpreter": {
   "hash": "80eb601d08a5722d65e34e5e2c95f8e441addfdcbaef863e07802d2146dd1c5f"
  },
  "kernelspec": {
   "display_name": "Python 3.8.9 64-bit ('MTGNetwork-mCGsv-ZK': pipenv)",
   "language": "python",
   "name": "python3"
  },
  "language_info": {
   "codemirror_mode": {
    "name": "ipython",
    "version": 3
   },
   "file_extension": ".py",
   "mimetype": "text/x-python",
   "name": "python",
   "nbconvert_exporter": "python",
   "pygments_lexer": "ipython3",
   "version": "3.8.9"
  },
  "orig_nbformat": 4
 },
 "nbformat": 4,
 "nbformat_minor": 2
}
