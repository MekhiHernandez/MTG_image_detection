{
 "cells": [
  {
   "cell_type": "markdown",
   "metadata": {},
   "source": []
  },
  {
   "cell_type": "code",
   "execution_count": 6,
   "metadata": {},
   "outputs": [
    {
     "name": "stdout",
     "output_type": "stream",
     "text": [
      "[[5]\n",
      " [0]\n",
      " [4]\n",
      " ...\n",
      " [5]\n",
      " [6]\n",
      " [8]]\n"
     ]
    }
   ],
   "source": [
    "import numpy as np\n",
    "from mlxtend.data import loadlocal_mnist\n",
    "import platform\n",
    "import random\n",
    "X, Y = loadlocal_mnist(\n",
    "            images_path='TestImageFiles/train-images-idx3-ubyte', \n",
    "            labels_path='TestImageFiles/train-labels-idx1-ubyte')\n",
    "Y = Y.reshape(60000,1)\n",
    "random.seed(0)\n",
    "chosen = random.sample(range(60000), 2000)\n",
    "trainX = X[chosen]\n",
    "trainY = Y[chosen]\n",
    "onehotY = np.zeros((2000, 10))\n",
    "for l in range(len(trainY)):\n",
    "    onehotY[l, trainY[l]] = 1\n",
    "print(Y)"
   ]
  },
  {
   "cell_type": "code",
   "execution_count": 7,
   "metadata": {},
   "outputs": [
    {
     "name": "stdout",
     "output_type": "stream",
     "text": [
      "(60000, 784)\n",
      "(60000, 1)\n",
      "(60000, 1)\n",
      "test(784, 600)\n",
      "1.00.0\n"
     ]
    }
   ],
   "source": [
    "\n",
    "print(X.shape)\n",
    "print(Y.shape)\n",
    "Yind = np.array(range(0,60000,1)).reshape(60000, 1)\n",
    "\n",
    "print(Yind.shape)\n",
    "Yindnew = Yind[(Y == 0) | (Y == 1)].reshape(12665,1)\n",
    "Xbinarytest = X[Yindnew].reshape(12665,784)\n",
    "Ybinarytest = Y[Yindnew].reshape(12665,1)\n",
    "chosen = np.array(random.sample(range(12655), 600)).reshape(600,1)\n",
    "Xbinarytrain = Xbinarytest[chosen].reshape(784,600)/255\n",
    "print('test' + str(Xbinarytrain.shape))\n",
    "Ybinarytrain = Ybinarytest[chosen].reshape(600,1)\n",
    "print(str(max(Xbinarytrain[1])) + str(min(Xbinarytrain[1])))\n",
    "\n"
   ]
  },
  {
   "cell_type": "code",
   "execution_count": null,
   "metadata": {},
   "outputs": [],
   "source": []
  },
  {
   "cell_type": "markdown",
   "metadata": {},
   "source": []
  },
  {
   "cell_type": "code",
   "execution_count": 8,
   "metadata": {},
   "outputs": [],
   "source": [
    "from FromScratch import *\n",
    "\n",
    "def neuralnetwork(X, Y, dimensions, iterations = 3000, learning_rate = 0.05):\n",
    "    X = np.squeeze(X)\n",
    "    Y = np.squeeze(Y).reshape(600,1)\n",
    "    print(Y.shape)\n",
    "    params = initialize_params(dimensions)\n",
    "    for i in range(iterations):\n",
    "        AL, caches = model_forward(X, params)\n",
    "        grads = model_backward(AL, Y, caches)\n",
    "        params = update_parameters(params, grads, learning_rate)\n",
    "        cost = compute_cost(AL,Y.T)\n",
    "        if i % 100 == 0:\n",
    "            print(f'Cost in epoch:{i} is {cost}')\n",
    "    return params\n"
   ]
  },
  {
   "cell_type": "code",
   "execution_count": 18,
   "metadata": {},
   "outputs": [
    {
     "name": "stdout",
     "output_type": "stream",
     "text": [
      "(600, 1)\n",
      "Cost in epoch:0 is 0.6919884751914841\n",
      "Cost in epoch:100 is 0.6780703443040142\n",
      "Cost in epoch:200 is 0.6702592627659923\n",
      "Cost in epoch:300 is 0.6640147775560709\n",
      "Cost in epoch:400 is 0.6583018080283093\n",
      "Cost in epoch:500 is 0.6526387312904051\n",
      "Cost in epoch:600 is 0.6468047162543017\n",
      "Cost in epoch:700 is 0.6406563528750973\n",
      "Cost in epoch:800 is 0.6341205573780354\n",
      "Cost in epoch:900 is 0.6272295995716334\n",
      "Cost in epoch:1000 is 0.620028628814145\n",
      "Cost in epoch:1100 is 0.6125277078251611\n",
      "Cost in epoch:1200 is 0.6046971662622995\n",
      "Cost in epoch:1300 is 0.5966458189813818\n",
      "Cost in epoch:1400 is 0.588265793385233\n",
      "Cost in epoch:1500 is 0.5795360749356724\n",
      "Cost in epoch:1600 is 0.5706417652880239\n",
      "Cost in epoch:1700 is 0.5616040035355501\n",
      "Cost in epoch:1800 is 0.5522676354663028\n",
      "Cost in epoch:1900 is 0.5426408641193566\n",
      "Cost in epoch:2000 is 0.5328719069772857\n",
      "Cost in epoch:2100 is 0.5229099886020334\n",
      "Cost in epoch:2200 is 0.5127444426383401\n",
      "Cost in epoch:2300 is 0.5023432406092591\n",
      "Cost in epoch:2400 is 0.49184546641968074\n",
      "Cost in epoch:2500 is 0.481293905745074\n",
      "Cost in epoch:2600 is 0.4706207028685806\n",
      "Cost in epoch:2700 is 0.45982403993935295\n",
      "Cost in epoch:2800 is 0.4489485000737845\n",
      "Cost in epoch:2900 is 0.438033482638917\n"
     ]
    }
   ],
   "source": [
    "dimensions = [784, 50, 1]\n",
    "parameters = neuralnetwork(Xbinarytrain, Ybinarytrain, dimensions = dimensions, iterations = 3000, learning_rate = 0.3)\n"
   ]
  },
  {
   "cell_type": "code",
   "execution_count": 19,
   "metadata": {},
   "outputs": [
    {
     "data": {
      "text/plain": [
       "array([[0.12639004]])"
      ]
     },
     "execution_count": 19,
     "metadata": {},
     "output_type": "execute_result"
    }
   ],
   "source": [
    "def predict(parameters, example):\n",
    "    example = example.reshape(784,1)\n",
    "    AL, caches = model_forward(example, parameters)\n",
    "    return(AL)\n",
    "predict(parameters, Xbinarytrain[:,1])\n"
   ]
  }
 ],
 "metadata": {
  "interpreter": {
   "hash": "80eb601d08a5722d65e34e5e2c95f8e441addfdcbaef863e07802d2146dd1c5f"
  },
  "kernelspec": {
   "display_name": "Python 3.8.9 64-bit ('MTGNetwork-mCGsv-ZK': pipenv)",
   "language": "python",
   "name": "python3"
  },
  "language_info": {
   "codemirror_mode": {
    "name": "ipython",
    "version": 3
   },
   "file_extension": ".py",
   "mimetype": "text/x-python",
   "name": "python",
   "nbconvert_exporter": "python",
   "pygments_lexer": "ipython3",
   "version": "3.8.9"
  },
  "orig_nbformat": 4
 },
 "nbformat": 4,
 "nbformat_minor": 2
}
